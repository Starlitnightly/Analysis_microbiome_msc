{
 "cells": [
  {
   "cell_type": "markdown",
   "id": "22ee90a8-5314-4abc-8ef0-d20431a42623",
   "metadata": {},
   "source": [
    "# qiime2 analysis\n",
    "\n",
    "## 1.qc"
   ]
  },
  {
   "cell_type": "code",
   "execution_count": 1,
   "id": "52def411-6ed4-4564-b531-a94dc66b5168",
   "metadata": {
    "tags": []
   },
   "outputs": [
    {
     "name": "stdout",
     "output_type": "stream",
     "text": [
      "\u001b[32mSaved Visualization to: qiime_visualization/metadata-summ-1.qzv\u001b[0m\n",
      "\u001b[0m"
     ]
    }
   ],
   "source": [
    "!qiime metadata tabulate \\\n",
    "  --m-input-file sample-metadata1.tsv \\\n",
    "  --o-visualization qiime_visualization/metadata-summ-1.qzv"
   ]
  },
  {
   "cell_type": "code",
   "execution_count": 4,
   "id": "dba00884-321f-4bf3-bb8f-364957937703",
   "metadata": {
    "tags": []
   },
   "outputs": [
    {
     "name": "stdout",
     "output_type": "stream",
     "text": [
      "\u001b[32mImported data_to_import as CasavaOneEightSingleLanePerSampleDirFmt to qiime_result/qc/demultiplexed-sequences.qza\u001b[0m\n",
      "\u001b[0m"
     ]
    }
   ],
   "source": [
    "!qiime tools import \\\n",
    "  --type 'SampleData[PairedEndSequencesWithQuality]' \\\n",
    "  --input-format CasavaOneEightSingleLanePerSampleDirFmt \\\n",
    "  --input-path data_to_import \\\n",
    "  --output-path qiime_result/qc/demultiplexed-sequences.qza"
   ]
  },
  {
   "cell_type": "code",
   "execution_count": 5,
   "id": "02b76cf5-7023-4b12-a3da-93266557ecf7",
   "metadata": {
    "tags": []
   },
   "outputs": [
    {
     "name": "stdout",
     "output_type": "stream",
     "text": [
      "\u001b[32mSaved Visualization to: qiime_visualization/demultiplexed-sequences-summ.qzv\u001b[0m\n",
      "\u001b[0m"
     ]
    }
   ],
   "source": [
    "!qiime demux summarize \\\n",
    "  --i-data qiime_result/qc/demultiplexed-sequences.qza \\\n",
    "  --o-visualization qiime_visualization/demultiplexed-sequences-summ.qzv"
   ]
  },
  {
   "cell_type": "markdown",
   "id": "eb48e6f0-7d6a-4c2f-b465-257e701dc2e1",
   "metadata": {},
   "source": [
    "## 2.denoise-paired"
   ]
  },
  {
   "cell_type": "code",
   "execution_count": 6,
   "id": "6950c1ec-00c7-4638-ac26-688220607772",
   "metadata": {
    "tags": []
   },
   "outputs": [
    {
     "name": "stdout",
     "output_type": "stream",
     "text": [
      "\u001b[32mSaved FeatureTable[Frequency] to: qiime_result/qc/feature-table-0.qza\u001b[0m\n",
      "\u001b[32mSaved FeatureData[Sequence] to: qiime_result/qc/asv-sequences-0.qza\u001b[0m\n",
      "\u001b[32mSaved SampleData[DADA2Stats] to: qiime_result/qc/dada2-stats.qza\u001b[0m\n",
      "\u001b[0m"
     ]
    }
   ],
   "source": [
    "!qiime dada2 denoise-paired \\\n",
    "  --i-demultiplexed-seqs qiime_result/qc/demultiplexed-sequences.qza \\\n",
    "  --p-trim-left-f 0 \\\n",
    "  --p-trunc-len-f 220 \\\n",
    "  --p-trim-left-r 0 \\\n",
    "  --p-trunc-len-r 220 \\\n",
    "  --p-n-threads 3 \\\n",
    "  --o-representative-sequences qiime_result/qc/asv-sequences-0.qza \\\n",
    "  --o-table qiime_result/qc/feature-table-0.qza \\\n",
    "  --o-denoising-stats qiime_result/qc/dada2-stats.qza"
   ]
  },
  {
   "cell_type": "code",
   "execution_count": 7,
   "id": "050ae6d4-4467-45b9-963e-12a9f39dba7f",
   "metadata": {
    "tags": []
   },
   "outputs": [
    {
     "name": "stdout",
     "output_type": "stream",
     "text": [
      "\u001b[32mSaved Visualization to: qiime_visualization/dada2-stats-summ.qzv\u001b[0m\n",
      "\u001b[0m"
     ]
    }
   ],
   "source": [
    "!qiime metadata tabulate \\\n",
    "  --m-input-file qiime_result/qc/dada2-stats.qza \\\n",
    "  --o-visualization qiime_visualization/dada2-stats-summ.qzv"
   ]
  },
  {
   "cell_type": "markdown",
   "id": "2f5c264b-c2c2-4638-b393-21460a975865",
   "metadata": {},
   "source": [
    "## 3.filtered and classification"
   ]
  },
  {
   "cell_type": "code",
   "execution_count": 8,
   "id": "47da3f1a-f9b3-4180-8b8e-0e7ba5fa7cb8",
   "metadata": {
    "tags": []
   },
   "outputs": [
    {
     "name": "stdout",
     "output_type": "stream",
     "text": [
      "\u001b[32mSaved Visualization to: qiime_visualization/feature-table-0-summ.qzv\u001b[0m\n",
      "\u001b[0m\u001b[32mSaved Visualization to: qiime_visualization/asv-sequences-0-summ.qzv\u001b[0m\n",
      "\u001b[0m"
     ]
    }
   ],
   "source": [
    "!qiime feature-table summarize \\\n",
    "  --i-table qiime_result/qc/feature-table-0.qza \\\n",
    "  --m-sample-metadata-file sample-metadata1.tsv \\\n",
    "  --o-visualization qiime_visualization/feature-table-0-summ.qzv\n",
    "!qiime feature-table tabulate-seqs \\\n",
    "  --i-data qiime_result/qc/asv-sequences-0.qza \\\n",
    "  --o-visualization qiime_visualization/asv-sequences-0-summ.qzv"
   ]
  },
  {
   "cell_type": "code",
   "execution_count": 9,
   "id": "c4146686-a1a4-4975-bf55-f1dfb4c25336",
   "metadata": {
    "tags": []
   },
   "outputs": [
    {
     "name": "stdout",
     "output_type": "stream",
     "text": [
      "\u001b[32mSaved FeatureData[Taxonomy] to: qiime_result/taxon/taxonomy.qza\u001b[0m\n",
      "\u001b[0m"
     ]
    }
   ],
   "source": [
    "!qiime feature-classifier classify-sklearn \\\n",
    "  --i-classifier qiime_result/gg-13-8-99-nb-classifier.qza \\\n",
    "  --i-reads qiime_result/qc/asv-sequences-0.qza \\\n",
    "  --o-classification qiime_result/taxon/taxonomy.qza"
   ]
  },
  {
   "cell_type": "code",
   "execution_count": 10,
   "id": "a0cb1496-6aa4-4ab9-946d-ae41e963d2e8",
   "metadata": {
    "tags": []
   },
   "outputs": [
    {
     "name": "stdout",
     "output_type": "stream",
     "text": [
      "\u001b[32mSaved Visualization to: qiime_visualization/taxonomy.qzv\u001b[0m\n",
      "\u001b[0m"
     ]
    }
   ],
   "source": [
    "!qiime metadata tabulate \\\n",
    "  --m-input-file qiime_result/taxon/taxonomy.qza \\\n",
    "  --o-visualization qiime_visualization/taxonomy.qzv"
   ]
  },
  {
   "cell_type": "code",
   "execution_count": 11,
   "id": "f5f0a0a1-81e0-406b-9978-3f969d88dbe7",
   "metadata": {
    "tags": []
   },
   "outputs": [
    {
     "name": "stdout",
     "output_type": "stream",
     "text": [
      "\u001b[32mSaved FeatureTable[Frequency] to: qiime_result/filtered/filtered-table.qza\u001b[0m\n",
      "\u001b[0m"
     ]
    }
   ],
   "source": [
    "!qiime taxa filter-table \\\n",
    "  --i-table qiime_result/qc/feature-table-0.qza \\\n",
    "  --i-taxonomy qiime_result/taxon/taxonomy.qza \\\n",
    "  --p-mode contains \\\n",
    "  --p-include p__ \\\n",
    "  --p-exclude 'p__;,Chloroplast,Mitochondria' \\\n",
    "  --o-filtered-table qiime_result/filtered/filtered-table.qza"
   ]
  },
  {
   "cell_type": "code",
   "execution_count": 12,
   "id": "920f5dad-ee57-40aa-b36e-bc65e186baa5",
   "metadata": {
    "tags": []
   },
   "outputs": [
    {
     "name": "stdout",
     "output_type": "stream",
     "text": [
      "\u001b[32mSaved FeatureData[Sequence] to: qiime_result/filtered/filtered-sequences.qza\u001b[0m\n",
      "\u001b[0m"
     ]
    }
   ],
   "source": [
    "!qiime feature-table filter-seqs \\\n",
    "  --i-data qiime_result/qc/asv-sequences-0.qza \\\n",
    "  --i-table qiime_result/filtered/filtered-table.qza \\\n",
    "  --o-filtered-data qiime_result/filtered/filtered-sequences.qza"
   ]
  },
  {
   "cell_type": "code",
   "execution_count": 13,
   "id": "90f622bc-28cd-4522-a4d4-205483409612",
   "metadata": {
    "tags": []
   },
   "outputs": [
    {
     "name": "stdout",
     "output_type": "stream",
     "text": [
      "\u001b[32mSaved Visualization to: qiime_visualization/taxa-bar-plots-1.qzv\u001b[0m\n",
      "\u001b[0m"
     ]
    }
   ],
   "source": [
    "!qiime taxa barplot \\\n",
    "  --i-table qiime_result/filtered/filtered-table.qza \\\n",
    "  --i-taxonomy qiime_result/taxon/taxonomy.qza \\\n",
    "  --m-metadata-file sample-metadata1.tsv \\\n",
    "  --o-visualization qiime_visualization/taxa-bar-plots-1.qzv"
   ]
  },
  {
   "cell_type": "code",
   "execution_count": 14,
   "id": "096fdd02-3835-4872-9ca0-efc7e88b095d",
   "metadata": {
    "tags": []
   },
   "outputs": [
    {
     "name": "stdout",
     "output_type": "stream",
     "text": [
      "\u001b[32mExported qiime_result/filtered/filtered-table.qza as BIOMV210DirFmt to directory qiime_result/filtered/filtered-table\u001b[0m\n",
      "\u001b[0m\u001b[32mExported qiime_result/filtered/filtered-sequences.qza as DNASequencesDirectoryFormat to directory qiime_result/filtered/filtered-sequences\u001b[0m\n",
      "\u001b[0m"
     ]
    }
   ],
   "source": [
    "!qiime tools export \\\n",
    "  --input-path qiime_result/filtered/filtered-table.qza \\\n",
    "  --output-path qiime_result/filtered/filtered-table\n",
    "!qiime tools export \\\n",
    "  --input-path qiime_result/filtered/filtered-sequences.qza \\\n",
    "  --output-path qiime_result/filtered/filtered-sequences\n",
    "!biom convert -i qiime_result/filtered/filtered-table/feature-table.biom \\\n",
    "    -o qiime_result/filtered/filtered-table/feature-table.txt \\\n",
    "    --to-tsv"
   ]
  },
  {
   "cell_type": "code",
   "execution_count": 15,
   "id": "0d303745-9de8-46aa-8331-77ffde70c032",
   "metadata": {
    "tags": []
   },
   "outputs": [],
   "source": [
    "import pandas as pd\n",
    "data=pd.read_csv('qiime_result/filtered/filtered-table/feature-table.txt',sep='\\t',skiprows=1,index_col=0)\n",
    "data.index.name='sequence'\n",
    "data.to_csv('qiime_result/filtered/filtered-table/feature-table.tsv',sep='\\t')"
   ]
  },
  {
   "cell_type": "code",
   "execution_count": 16,
   "id": "cd39d6ed-aa74-473e-aa74-c5012a3dce4b",
   "metadata": {
    "tags": []
   },
   "outputs": [
    {
     "name": "stdout",
     "output_type": "stream",
     "text": [
      "\u001b[32mSaved FeatureData[Taxonomy] to: qiime_result/taxon/bespoke_taxonomy.qza\u001b[0m\n",
      "\u001b[0m\u001b[32mSaved Visualization to: qiime_visualization/bespoke_taxonomy.qzv\u001b[0m\n",
      "\u001b[0m\u001b[32mSaved Visualization to: qiime_visualization/bespoke_taxa_barplot.qzv\u001b[0m\n",
      "\u001b[0m"
     ]
    }
   ],
   "source": [
    "!qiime feature-classifier classify-sklearn \\\n",
    "  --i-reads qiime_result/filtered/filtered-sequences.qza \\\n",
    "  --i-classifier classify/bespoke.qza \\\n",
    "  --o-classification qiime_result/taxon/bespoke_taxonomy.qza\n",
    "\n",
    "!qiime metadata tabulate \\\n",
    "  --m-input-file qiime_result/taxon/bespoke_taxonomy.qza \\\n",
    "  --o-visualization qiime_visualization/bespoke_taxonomy.qzv\n",
    "\n",
    "!qiime taxa barplot \\\n",
    "  --i-table qiime_result/filtered/filtered-table.qza \\\n",
    "  --i-taxonomy qiime_result/taxon/bespoke_taxonomy.qza \\\n",
    "  --m-metadata-file sample-metadata1.tsv \\\n",
    "  --o-visualization qiime_visualization/bespoke_taxa_barplot.qzv"
   ]
  },
  {
   "cell_type": "markdown",
   "id": "0aa20087-8c23-4638-9944-2faae909665b",
   "metadata": {},
   "source": [
    "## 4. Pathway and function prediction"
   ]
  },
  {
   "cell_type": "code",
   "execution_count": 17,
   "id": "e138d1c8-c035-4007-999d-0ffc0fa361d8",
   "metadata": {
    "tags": []
   },
   "outputs": [
    {
     "name": "stdout",
     "output_type": "stream",
     "text": [
      "\u001b[32mSaved FeatureTable[Frequency] to: qiime_result/otu/table-cr-85.qza\u001b[0m\n",
      "\u001b[32mSaved FeatureData[Sequence] to: qiime_result/otu/rep-seqs-cr-85.qza\u001b[0m\n",
      "\u001b[32mSaved FeatureData[Sequence] to: qiime_result/otu/unmatched-cr-85.qza\u001b[0m\n",
      "\u001b[0m"
     ]
    }
   ],
   "source": [
    "!qiime vsearch cluster-features-closed-reference \\\n",
    "  --i-table qiime_result/filtered/filtered-table.qza \\\n",
    "  --i-sequences qiime_result/filtered/filtered-sequences.qza \\\n",
    "  --i-reference-sequences qiime_result/otu/85_otus.qza \\\n",
    "  --p-perc-identity 0.85 \\\n",
    "  --o-clustered-table qiime_result/otu/table-cr-85.qza \\\n",
    "  --o-clustered-sequences qiime_result/otu/rep-seqs-cr-85.qza \\\n",
    "  --o-unmatched-sequences qiime_result/otu/unmatched-cr-85.qza"
   ]
  },
  {
   "cell_type": "code",
   "execution_count": 18,
   "id": "764b00fb-6302-42b3-93b2-00e20a2cc018",
   "metadata": {
    "tags": []
   },
   "outputs": [
    {
     "name": "stdout",
     "output_type": "stream",
     "text": [
      "\u001b[32mExported qiime_result/otu/table-cr-85.qza as BIOMV210DirFmt to directory qiime_result/otu/table-cr-85\u001b[0m\n",
      "\u001b[0m\u001b[32mExported qiime_result/otu/rep-seqs-cr-85.qza as DNASequencesDirectoryFormat to directory qiime_result/otu/rep-seqs-cr-85\u001b[0m\n",
      "\u001b[0m"
     ]
    }
   ],
   "source": [
    "!qiime tools export \\\n",
    "  --input-path qiime_result/otu/table-cr-85.qza \\\n",
    "  --output-path qiime_result/otu/table-cr-85\n",
    "!qiime tools export \\\n",
    "  --input-path qiime_result/otu/rep-seqs-cr-85.qza \\\n",
    "  --output-path qiime_result/otu/rep-seqs-cr-85\n",
    "!biom convert -i qiime_result/otu/table-cr-85/feature-table.biom \\\n",
    "    -o qiime_result/otu/table-cr-85/feature-table.txt \\\n",
    "    --to-tsv"
   ]
  },
  {
   "cell_type": "code",
   "execution_count": 19,
   "id": "1eb42f98-0698-43ee-9bc6-01704934bf19",
   "metadata": {
    "tags": []
   },
   "outputs": [],
   "source": [
    "import pandas as pd\n",
    "data=pd.read_csv('qiime_result/otu/table-cr-85/feature-table.txt',sep='\\t',skiprows=1,index_col=0)\n",
    "data.index.name='sequence'\n",
    "data.to_csv('qiime_result/otu/table-cr-85/feature-table.tsv',sep='\\t')"
   ]
  },
  {
   "cell_type": "code",
   "execution_count": 20,
   "id": "3af18939-76e0-4a1d-b87b-e9a6eb48744f",
   "metadata": {
    "tags": []
   },
   "outputs": [
    {
     "name": "stdout",
     "output_type": "stream",
     "text": [
      "Running BLAST with 98.3 cut-off.\n",
      "Predicting 16S rRNA copy numbers\n",
      "Predicting KO copy numbers\n",
      "Predicting KO metagenome\n",
      "Running MinPath (KO)\n",
      "Anotating predicted metagenome\n",
      "/Users/fernandozeng/miniforge3/envs/qiime2-amplicon-2023.9/lib/python3.8/site-packages/micfunpreDefinitions/micfunpreDefinitions.py:391: FutureWarning: The default value of numeric_only in DataFrameGroupBy.sum is deprecated. In a future version, numeric_only will default to False. Either specify numeric_only or select only columns which should be valid for the function.\n",
      "  df_ko = df_ko.groupby('C').sum()\n",
      "/Users/fernandozeng/miniforge3/envs/qiime2-amplicon-2023.9/lib/python3.8/site-packages/micfunpreDefinitions/micfunpreDefinitions.py:157: FutureWarning: The default value of numeric_only in DataFrameGroupBy.sum is deprecated. In a future version, numeric_only will default to False. Either specify numeric_only or select only columns which should be valid for the function.\n",
      "  return metagenomeDf.groupby(group).sum()\n",
      "/Users/fernandozeng/miniforge3/envs/qiime2-amplicon-2023.9/lib/python3.8/site-packages/micfunpreDefinitions/micfunpreDefinitions.py:157: FutureWarning: The default value of numeric_only in DataFrameGroupBy.sum is deprecated. In a future version, numeric_only will default to False. Either specify numeric_only or select only columns which should be valid for the function.\n",
      "  return metagenomeDf.groupby(group).sum()\n",
      "/Users/fernandozeng/miniforge3/envs/qiime2-amplicon-2023.9/lib/python3.8/site-packages/micfunpreDefinitions/micfunpreDefinitions.py:157: FutureWarning: The default value of numeric_only in DataFrameGroupBy.sum is deprecated. In a future version, numeric_only will default to False. Either specify numeric_only or select only columns which should be valid for the function.\n",
      "  return metagenomeDf.groupby(group).sum()\n",
      "/Users/fernandozeng/miniforge3/envs/qiime2-amplicon-2023.9/lib/python3.8/site-packages/micfunpreDefinitions/micfunpreDefinitions.py:157: FutureWarning: The default value of numeric_only in DataFrameGroupBy.sum is deprecated. In a future version, numeric_only will default to False. Either specify numeric_only or select only columns which should be valid for the function.\n",
      "  return metagenomeDf.groupby(group).sum()\n",
      "Predicting EC copy numbers\n",
      "Predicting EC metagenome\n",
      "Running MinPath (RXN)\n",
      "/Users/fernandozeng/miniforge3/envs/qiime2-amplicon-2023.9/lib/python3.8/site-packages/micfunpreDefinitions/micfunpreDefinitions.py:157: FutureWarning: The default value of numeric_only in DataFrameGroupBy.sum is deprecated. In a future version, numeric_only will default to False. Either specify numeric_only or select only columns which should be valid for the function.\n",
      "  return metagenomeDf.groupby(group).sum()\n",
      "Predicting Pfam copy numbers\n",
      "Predicting COG copy numbers\n",
      "Predicting TIGRFAM copy numbers\n",
      "Predicting CAZymes copy numbers\n",
      "Completed pipline in 949.38 seconds.\n"
     ]
    }
   ],
   "source": [
    "!MicFunPred_run_pipeline.py -i qiime_result/otu/table-cr-85/feature-table.tsv \\\n",
    "  -r qiime_result/otu/rep-seqs-cr-85/dna-sequences.fasta \\\n",
    "  -o qiime_result/otu/micfunpred_cr_85_contrib \\\n",
    "  --verbose \\\n",
    "  --contrib"
   ]
  },
  {
   "cell_type": "code",
   "execution_count": null,
   "id": "a1092844-923a-4adb-b54e-6cb567ef94ab",
   "metadata": {},
   "outputs": [],
   "source": []
  }
 ],
 "metadata": {
  "kernelspec": {
   "display_name": "Python 3 (ipykernel)",
   "language": "python",
   "name": "python3"
  },
  "language_info": {
   "codemirror_mode": {
    "name": "ipython",
    "version": 3
   },
   "file_extension": ".py",
   "mimetype": "text/x-python",
   "name": "python",
   "nbconvert_exporter": "python",
   "pygments_lexer": "ipython3",
   "version": "3.8.17"
  }
 },
 "nbformat": 4,
 "nbformat_minor": 5
}
